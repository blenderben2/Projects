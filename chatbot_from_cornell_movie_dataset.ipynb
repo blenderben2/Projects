{
  "nbformat": 4,
  "nbformat_minor": 0,
  "metadata": {
    "colab": {
      "name": "chatbot_from_cornell_movie_dataset.ipynb",
      "version": "0.3.2",
      "provenance": [],
      "collapsed_sections": []
    },
    "kernelspec": {
      "name": "python3",
      "display_name": "Python 3"
    },
    "accelerator": "GPU"
  },
  "cells": [
    {
      "metadata": {
        "id": "mATlLoScOGpY",
        "colab_type": "text"
      },
      "cell_type": "markdown",
      "source": [
        "# **Setup**"
      ]
    },
    {
      "metadata": {
        "id": "-3ii-pw1vj_U",
        "colab_type": "code",
        "cellView": "form",
        "outputId": "bd71842e-44bf-4389-da2d-9445d2a99369",
        "colab": {
          "base_uri": "https://localhost:8080/",
          "height": 357
        }
      },
      "cell_type": "code",
      "source": [
        "#@title Available Memory - On Google Colab\n",
        "# memory footprint support libraries/code\n",
        "!ln -sf /opt/bin/nvidia-smi /usr/bin/nvidia-smi\n",
        "!pip install gputil\n",
        "!pip install psutil\n",
        "!pip install humanize\n",
        "import psutil\n",
        "import humanize\n",
        "import os\n",
        "import GPUtil as GPU\n",
        "GPUs = GPU.getGPUs()\n",
        "# XXX: only one GPU on Colab and isn’t guaranteed\n",
        "gpu = GPUs[0]\n",
        "def printm():\n",
        " process = psutil.Process(os.getpid())\n",
        " print(\"Gen RAM Free: \" + humanize.naturalsize( psutil.virtual_memory().available ), \" | Proc size: \" + humanize.naturalsize( process.memory_info().rss))\n",
        " print(\"GPU RAM Free: {0:.0f}MB | Used: {1:.0f}MB | Util {2:3.0f}% | Total {3:.0f}MB\".format(gpu.memoryFree, gpu.memoryUsed, gpu.memoryUtil*100, gpu.memoryTotal))\n",
        "printm()"
      ],
      "execution_count": 1,
      "outputs": [
        {
          "output_type": "stream",
          "text": [
            "Collecting gputil\n",
            "  Downloading https://files.pythonhosted.org/packages/45/99/837428d26b47ebd6b66d6e1b180e98ec4a557767a93a81a02ea9d6242611/GPUtil-1.3.0.tar.gz\n",
            "Requirement already satisfied: numpy in /usr/local/lib/python3.6/dist-packages (from gputil) (1.14.6)\n",
            "Building wheels for collected packages: gputil\n",
            "  Running setup.py bdist_wheel for gputil ... \u001b[?25l-\b \bdone\n",
            "\u001b[?25h  Stored in directory: /root/.cache/pip/wheels/17/0f/04/b79c006972335e35472c0b835ed52bfc0815258d409f560108\n",
            "Successfully built gputil\n",
            "Installing collected packages: gputil\n",
            "Successfully installed gputil-1.3.0\n",
            "Requirement already satisfied: psutil in /usr/local/lib/python3.6/dist-packages (5.4.8)\n",
            "Collecting humanize\n",
            "  Downloading https://files.pythonhosted.org/packages/8c/e0/e512e4ac6d091fc990bbe13f9e0378f34cf6eecd1c6c268c9e598dcf5bb9/humanize-0.5.1.tar.gz\n",
            "Building wheels for collected packages: humanize\n",
            "  Running setup.py bdist_wheel for humanize ... \u001b[?25l-\b \bdone\n",
            "\u001b[?25h  Stored in directory: /root/.cache/pip/wheels/69/86/6c/f8b8593bc273ec4b0c653d3827f7482bb2001a2781a73b7f44\n",
            "Successfully built humanize\n",
            "Installing collected packages: humanize\n",
            "Successfully installed humanize-0.5.1\n",
            "Gen RAM Free: 13.0 GB  | Proc size: 137.8 MB\n",
            "GPU RAM Free: 11441MB | Used: 0MB | Util   0% | Total 11441MB\n"
          ],
          "name": "stdout"
        }
      ]
    },
    {
      "metadata": {
        "id": "hJFM5JloSarI",
        "colab_type": "code",
        "cellView": "form",
        "outputId": "25c20516-3937-4e36-e11d-332c5a26c02e",
        "colab": {
          "base_uri": "https://localhost:8080/",
          "height": 122
        }
      },
      "cell_type": "code",
      "source": [
        "#@title Mount Google Drive\n",
        "from google.colab import drive, files\n",
        "drive.mount('/content/gdrive', force_remount=True)"
      ],
      "execution_count": 2,
      "outputs": [
        {
          "output_type": "stream",
          "text": [
            "Go to this URL in a browser: https://accounts.google.com/o/oauth2/auth?client_id=947318989803-6bn6qk8qdgf4n4g3pfee6491hc0brc4i.apps.googleusercontent.com&redirect_uri=urn%3Aietf%3Awg%3Aoauth%3A2.0%3Aoob&scope=email%20https%3A%2F%2Fwww.googleapis.com%2Fauth%2Fdocs.test%20https%3A%2F%2Fwww.googleapis.com%2Fauth%2Fdrive%20https%3A%2F%2Fwww.googleapis.com%2Fauth%2Fdrive.photos.readonly%20https%3A%2F%2Fwww.googleapis.com%2Fauth%2Fpeopleapi.readonly&response_type=code\n",
            "\n",
            "Enter your authorization code:\n",
            "··········\n",
            "Mounted at /content/gdrive\n"
          ],
          "name": "stdout"
        }
      ]
    },
    {
      "metadata": {
        "id": "-44hj8lqJ-bm",
        "colab_type": "code",
        "cellView": "form",
        "outputId": "e942856e-a407-4d81-fbb1-44f4cc72e16f",
        "colab": {
          "base_uri": "https://localhost:8080/",
          "height": 34
        }
      },
      "cell_type": "code",
      "source": [
        "#@title Imports { vertical-output: true }\n",
        "import os\n",
        "import random\n",
        "import unicodedata\n",
        "import re\n",
        "import numpy as np\n",
        "import time\n",
        "import datetime\n",
        "import dill\n",
        "import tensorflow as tf\n",
        "from ast import literal_eval\n",
        "\n",
        "from __future__ import absolute_import, division, print_function\n",
        "\n",
        "#configi = tf.ConfigProto()\n",
        "#configi.gpu_options.allow_growth = True\n",
        "tf.enable_eager_execution()\n",
        "\n",
        "import matplotlib.pyplot as plt\n",
        "from sklearn.model_selection import train_test_split\n",
        "\n",
        "\n",
        "print('Tensorflow Version:', tf.__version__)"
      ],
      "execution_count": 3,
      "outputs": [
        {
          "output_type": "stream",
          "text": [
            "Tensorflow Version: 1.12.0-rc2\n"
          ],
          "name": "stdout"
        }
      ]
    },
    {
      "metadata": {
        "id": "HsKn-PBAOkLY",
        "colab_type": "text"
      },
      "cell_type": "markdown",
      "source": [
        "# **Functions**"
      ]
    },
    {
      "metadata": {
        "id": "ryIreANLry1G",
        "colab_type": "code",
        "colab": {}
      },
      "cell_type": "code",
      "source": [
        "#@title Cornell Movie Dialog Processor { display-mode: \"code\" }\n",
        "DELIM = ' +++$+++ '\n",
        "\n",
        "\n",
        "class CornellMovieCorpusProcessor:\n",
        "\n",
        "    def __init__(self, lines, conversations):\n",
        "        self.movie_lines_filepath = lines\n",
        "        self.movie_conversations = conversations\n",
        "        \n",
        "    def unicode_to_ascii(s):\n",
        "      return ''.join(c for c in unicodedata.normalize('NFD', s) if unicodedata.category(c) != 'Mn')\n",
        "    \n",
        "    def preprocess_sentence(w):\n",
        "      w = CornellMovieCorpusProcessor.unicode_to_ascii(w.lower().strip())\n",
        "\n",
        "      w = re.sub(r\"([?.!,'])\", r\" \\1 \", w)\n",
        "      w = re.sub(r'[\" \"]+', \" \", w)\n",
        "\n",
        "      w = re.sub(r\"[^a-zA-Z?.!,']+\", \" \", w)\n",
        "\n",
        "      w = w.rstrip().strip()\n",
        "\n",
        "      w = '<start> ' + w + ' <end>'\n",
        "      return w\n",
        "\n",
        "    def get_id2line(self):\n",
        "        \"\"\"\n",
        "        1. Read from 'movie-lines.txt'\n",
        "        2. Create a dictionary with ( key = line_id, value = text )\n",
        "        :return: (dict) {line-id: text, ...}\n",
        "        \"\"\"\n",
        "        id2line = {}\n",
        "        id_index = 0\n",
        "        text_index = 4\n",
        "        with open(self.movie_lines_filepath, 'r', encoding='iso-8859-1') as f:\n",
        "            for line in f:\n",
        "                items = line.split(DELIM)\n",
        "                #print(items)\n",
        "                if len(items) == 5:\n",
        "                    line_id = items[id_index]\n",
        "                    #print(line_id, id_index)\n",
        "                    dialog_text = items[text_index].strip()\n",
        "                    dialog_text = CornellMovieCorpusProcessor.preprocess_sentence(dialog_text)\n",
        "                    #print(dialog_text)\n",
        "                    id2line[line_id] = dialog_text\n",
        "                    #print(id2line[line_id])\n",
        "        return id2line\n",
        "\n",
        "    def get_conversations(self):\n",
        "        \"\"\"\n",
        "        1. Read from 'movie_conversations.txt'\n",
        "        2. Create a list of [list of line_id's]\n",
        "        :return: [list of line_id's]\n",
        "        \"\"\"\n",
        "        conversation_ids_index = -1\n",
        "        conversations = []\n",
        "        with open(self.movie_conversations, 'r', encoding='iso-8859-1') as f:\n",
        "            for line in f:\n",
        "                items = line.split(DELIM)\n",
        "                conversation_ids_field = items[conversation_ids_index]\n",
        "                #print(conversation_ids_field)\n",
        "                conversation_ids = literal_eval(conversation_ids_field)  # evaluate as a python list\n",
        "                conversations.append(conversation_ids)\n",
        "                \n",
        "        return conversations\n",
        "\n",
        "    def get_question_answer_set(self, id2line, conversations):\n",
        "        \"\"\"\n",
        "        Want to collect questions and answers\n",
        "        (this current method is iffy... not sure how this accurately defines questions/answers...)\n",
        "        :param conversations: (list) Collection line ids consisting of a single conversation\n",
        "        :param id2line: (dict) mapping of line-ids to actual line text\n",
        "        :return: (list) questions, (list) answers\n",
        "        \"\"\"\n",
        "        questions = []\n",
        "        answers = []\n",
        "\n",
        "        # This uses a simple method in an attempt to gather question/answers\n",
        "        for conversation in conversations:\n",
        "            if len(conversation) % 2 != 0:\n",
        "                conversation = conversation[:-1]  # remove last item , as conversations assumed to be in Q&A (even) format\n",
        "\n",
        "            for idx, line_id in enumerate(conversation):\n",
        "                #print(idx, line_id)\n",
        "                if idx % 2 == 0:\n",
        "                    questions.append(id2line[line_id])\n",
        "                else:\n",
        "                    answers.append(id2line[line_id])\n",
        "\n",
        "        return questions, answers\n",
        "      \n",
        "    def read_glove_vecs(glove_file):\n",
        "      with open(glove_file, 'r') as f:\n",
        "          #words = set()\n",
        "          word_to_vec_map = {}\n",
        "          for line in f:\n",
        "              line = line.strip().split()\n",
        "              curr_word = line[0]\n",
        "              #words.add(curr_word)\n",
        "              word_to_vec_map[curr_word] = np.array(line[1:], dtype=np.float64)\n",
        "\n",
        "      return word_to_vec_map\n",
        "\n",
        "    def reduce_lengthy_sentences(self, questions, answers, tryy):\n",
        "      new_q = []\n",
        "      new_a = []\n",
        "      new_q2 = []\n",
        "      new_a2 = []\n",
        "      \n",
        "      count = 0\n",
        "      total_count = 0\n",
        "      \n",
        "      for q, a in zip(questions, answers):\n",
        "        total_count += 1\n",
        "        if len(q) > tryy:\n",
        "          count += 1\n",
        "        else:\n",
        "          new_q.append(q)\n",
        "          new_a.append(a)\n",
        "      print(100 - (count/total_count*100), '% or', total_count-count, 'of question sentences have lengths less than', tryy)\n",
        "      print('questions with length less than', tryy, 'and their corresponding answers are copied over to a new list')\n",
        "      print()\n",
        "\n",
        "      kount = 0\n",
        "      total_kount = 0\n",
        "      \n",
        "      for q, a in zip(new_q, new_a):\n",
        "        total_kount += 1\n",
        "        if len(a) > tryy:\n",
        "          kount += 1\n",
        "        else:\n",
        "          new_q2.append(q)\n",
        "          new_a2.append(a)\n",
        "      print(100 - (kount/total_kount*100), '% or', total_kount-kount, 'of answer sentences have lengths less than', tryy)\n",
        "      print('answers with length less than', tryy, 'and their corresponding questions are copied over to a new list')\n",
        "\n",
        "      return new_q2, new_a2\n",
        "    \n",
        "    def max_length(tensor):\n",
        "      return max(len(t) for t in tensor)\n",
        "\n",
        "    def load_dataset(self, q, a, glove_file): #\n",
        "\n",
        "      # index language using the class defined above    \n",
        "      inp_lang = LanguageIndex(q)\n",
        "      targ_lang = LanguageIndex(a)\n",
        "\n",
        "      # Vectorize the input and target languages\n",
        "\n",
        "      # Q sentences\n",
        "      input_tensor = [[inp_lang.word2idx[s] for s in q.split(' ')] for q in q]\n",
        "\n",
        "      # A sentences\n",
        "      target_tensor = [[targ_lang.word2idx[s] for s in a.split(' ')] for a in a]\n",
        "\n",
        "      # Calculate max_length of input and output tensor\n",
        "      # Here, we'll set those to the longest sentence in the dataset\n",
        "      max_length_inp, max_length_tar = CornellMovieCorpusProcessor.max_length(input_tensor), CornellMovieCorpusProcessor.max_length(target_tensor)\n",
        "\n",
        "      # Padding the input and output tensor to the maximum length\n",
        "      input_tensor = tf.keras.preprocessing.sequence.pad_sequences(input_tensor, \n",
        "                                                                   maxlen=max_length_inp,\n",
        "                                                                   padding='post')\n",
        "\n",
        "      target_tensor = tf.keras.preprocessing.sequence.pad_sequences(target_tensor, \n",
        "                                                                    maxlen=max_length_tar, \n",
        "                                                                    padding='post')\n",
        "\n",
        "      em_word_to_vec_map = CornellMovieCorpusProcessor.read_glove_vecs(glove_file)\n",
        "\n",
        "      return input_tensor, target_tensor, inp_lang, targ_lang, max_length_inp, max_length_tar, em_word_to_vec_map\n",
        "      \n",
        "# This class creates a word -> index mapping (e.g,. \"dad\" -> 5) and vice-versa \n",
        "# (e.g., 5 -> \"dad\") for each language,\n",
        "class LanguageIndex():\n",
        "  def __init__(self, lang):\n",
        "      self.lang = lang\n",
        "      self.word2idx = {}\n",
        "      self.idx2word = {}\n",
        "      self.vocab = set()\n",
        "      self.create_index()\n",
        "\n",
        "  def create_index(self):\n",
        "      for phrase in self.lang:\n",
        "          self.vocab.update(phrase.split(' '))\n",
        "\n",
        "      self.vocab = sorted(self.vocab)\n",
        "\n",
        "      self.word2idx['<pad>'] = 0\n",
        "      for index, word in enumerate(self.vocab):\n",
        "          self.word2idx[word] = index + 1\n",
        "\n",
        "      for word, index in self.word2idx.items():\n",
        "          self.idx2word[index] = word"
      ],
      "execution_count": 0,
      "outputs": []
    },
    {
      "metadata": {
        "id": "-bCrQwWAOXVL",
        "colab_type": "text"
      },
      "cell_type": "markdown",
      "source": [
        "# **Pre-processing**"
      ]
    },
    {
      "metadata": {
        "id": "JhHPoeqrKIqJ",
        "colab_type": "code",
        "cellView": "form",
        "outputId": "8d2f83f8-699e-4bca-96e6-c184e8a02f62",
        "colab": {
          "base_uri": "https://localhost:8080/",
          "height": 326
        }
      },
      "cell_type": "code",
      "source": [
        "#@title Get Question and Answer Conversations\n",
        "processor = CornellMovieCorpusProcessor('/content/gdrive/My Drive/Colab Notebooks/movie_lines.txt', \n",
        "                                        '/content/gdrive/My Drive/Colab Notebooks/movie_conversations.txt')\n",
        "MAX_N_WORD = 180\n",
        "id2lines = processor.get_id2line()\n",
        "conversations = processor.get_conversations()\n",
        "questions, answers = processor.get_question_answer_set(id2lines, conversations)\n",
        "questions, answers = processor.reduce_lengthy_sentences(questions, answers, MAX_N_WORD) # remove sentences more than n amount of words, and balences the Q&A\n",
        "print()\n",
        "# example Q&As\n",
        "print('EXAMPLE Q&A')\n",
        "for i in range(0, 10000, 2000):\n",
        "  print('Q', i, ':', questions[i])\n",
        "  print('A', i, ':', answers[i])"
      ],
      "execution_count": 5,
      "outputs": [
        {
          "output_type": "stream",
          "text": [
            "94.3801353748145 % or 130372 of question sentences have lengths less than 180\n",
            "questions with length less than 180 and their corresponding answers are copied over to a new list\n",
            "\n",
            "94.96977878685607 % or 123814 of answer sentences have lengths less than 180\n",
            "answers with length less than 180 and their corresponding questions are copied over to a new list\n",
            "\n",
            "EXAMPLE Q&A\n",
            "Q 0 : <start> can we make this quick ? roxanne korrine and andrew barrett are having an incredibly horrendous public break up on the quad . again . <end>\n",
            "A 0 : <start> well , i thought we ' d start with pronunciation , if that ' s okay with you . <end>\n",
            "Q 2000 : <start> you got what you wanted . you going to release us now ? <end>\n",
            "A 2000 : <start> you ' re very valuable . and our nation needs so many things . <end>\n",
            "Q 4000 : <start> why are there copies of the style section all over the place ? do you have a dog ? a chow or something ? <end>\n",
            "A 4000 : <start> no , owen . <end>\n",
            "Q 6000 : <start> she ' s alive ! ! she is not dead ? <end>\n",
            "A 6000 : <start> laugh it up . <end>\n",
            "Q 8000 : <start> so there were two of these explosive charges placed on the power lines . one of them failed . the fingerprint . . . that ' s from the one that didn ' t go off . <end>\n",
            "A 8000 : <start> and the germans can ' t match it ? <end>\n"
          ],
          "name": "stdout"
        }
      ]
    },
    {
      "metadata": {
        "id": "5s-lKlsJmml9",
        "colab_type": "code",
        "cellView": "form",
        "colab": {}
      },
      "cell_type": "code",
      "source": [
        "#@title Load Dataset\n",
        "glove_file = '/content/gdrive/My Drive/Colab Notebooks/glove.6B.50d.txt'       # LOCATION OF GLOVE FILE\n",
        "input_tensor, target_tensor, inp_lang, targ_lang, max_length_inp, max_length_targ, em_word_to_vec_map = processor.load_dataset(questions, answers, glove_file)\n",
        "input_tensor_train, target_tensor_train = input_tensor, target_tensor # because validation data from split was not used"
      ],
      "execution_count": 0,
      "outputs": []
    },
    {
      "metadata": {
        "id": "RVaBZHO3pE5k",
        "colab_type": "code",
        "cellView": "form",
        "outputId": "c71f86c8-0200-4918-c1ad-48447703bcde",
        "colab": {
          "base_uri": "https://localhost:8080/",
          "height": 323
        }
      },
      "cell_type": "code",
      "source": [
        "#@title Visualise Input Data\n",
        "print('Raw Input Example: ', inp_lang.idx2word[80])  # taken from word vocab dict\n",
        "print('Raw Target Example:', targ_lang.idx2word[80]) # taken from word vocab dict\n",
        "print('Vectorised Version - Format: (num_of_examples, max_sentence_len)')\n",
        "print('                Input (sp): ', input_tensor.shape)\n",
        "print('               Target (en): ', target_tensor.shape)\n",
        "print('Raw Input Example Vectorised: \\n', input_tensor[80])\n",
        "print('Raw Target Example Vectorised: \\n', target_tensor[80])\n",
        "\n",
        "#print(inp_lang.word2idx) #vocab"
      ],
      "execution_count": 7,
      "outputs": [
        {
          "output_type": "stream",
          "text": [
            "Raw Input Example:  aboukir\n",
            "Raw Target Example: abrams\n",
            "Vectorised Version - Format: (num_of_examples, max_sentence_len)\n",
            "                Input (sp):  (123814, 65)\n",
            "               Target (en):  (123814, 59)\n",
            "Raw Input Example Vectorised: \n",
            " [    7 11908     3 22618 18083     9 12550 22307     5 28924 26459 13691\n",
            "     5     6     0     0     0     0     0     0     0     0     0     0\n",
            "     0     0     0     0     0     0     0     0     0     0     0     0\n",
            "     0     0     0     0     0     0     0     0     0     0     0     0\n",
            "     0     0     0     0     0     0     0     0     0     0     0     0\n",
            "     0     0     0     0     0]\n",
            "Raw Target Example Vectorised: \n",
            " [    7 28775     3 20594 17344 10559 27003 28785 23273 10553     5  8197\n",
            " 17594 24558     5     6     0     0     0     0     0     0     0     0\n",
            "     0     0     0     0     0     0     0     0     0     0     0     0\n",
            "     0     0     0     0     0     0     0     0     0     0     0     0\n",
            "     0     0     0     0     0     0     0     0     0     0     0]\n"
          ],
          "name": "stdout"
        }
      ]
    },
    {
      "metadata": {
        "id": "2mBFnDBvWxbt",
        "colab_type": "code",
        "cellView": "form",
        "colab": {}
      },
      "cell_type": "code",
      "source": [
        "#@title Split Data to Train & Validation Sets\n",
        "# Creating training and validation sets using an 80-20 split\n",
        "#input_tensor_train, input_tensor_val, target_tensor_train, target_tensor_val = train_test_split(input_tensor, target_tensor, test_size=0.2)\n",
        "\n",
        "# Show length\n",
        "#print('Number of Q&A Examples for (Train Set, Validation Set)')\n",
        "#len(input_tensor_train), len(target_tensor_train), len(input_tensor_val), len(target_tensor_val)"
      ],
      "execution_count": 0,
      "outputs": []
    },
    {
      "metadata": {
        "id": "B6BaaTxpYlpw",
        "colab_type": "text"
      },
      "cell_type": "markdown",
      "source": [
        "# **Hyperparameters**"
      ]
    },
    {
      "metadata": {
        "id": "m2e6oEUMrfEp",
        "colab_type": "code",
        "cellView": "code",
        "colab": {}
      },
      "cell_type": "code",
      "source": [
        "#@title Adjustable Parameters\n",
        "BUFFER_SIZE = len(input_tensor_train)\n",
        "BATCH_SIZE = 48\n",
        "N_BATCH = BUFFER_SIZE//BATCH_SIZE # number of mini batches\n",
        "use_PWE = False # if True, embedding_dim would be based on dimension of pre-trained word embedding\n",
        "embedding_dim = 256\n",
        "enc_units = 512\n",
        "dec_units = 1024\n",
        "vocab_inp_size = len(inp_lang.word2idx)\n",
        "vocab_tar_size = len(targ_lang.word2idx)\n",
        "\n",
        "\n",
        "dataset = tf.data.Dataset.from_tensor_slices((input_tensor_train, target_tensor_train)).shuffle(BUFFER_SIZE, seed=1) # use alternative from (from_tensor_slices) if data is > 1 GB, see documentation\n",
        "dataset = dataset.batch(BATCH_SIZE, drop_remainder=True)"
      ],
      "execution_count": 0,
      "outputs": []
    },
    {
      "metadata": {
        "id": "vLofEgIfRKs3",
        "colab_type": "text"
      },
      "cell_type": "markdown",
      "source": [
        "# **Model**"
      ]
    },
    {
      "metadata": {
        "id": "05WBs071r6Sx",
        "colab_type": "code",
        "cellView": "form",
        "colab": {}
      },
      "cell_type": "code",
      "source": [
        "#@title Embedding\n",
        "def pretrained_embedding_matrix(word_to_vec_map, word_to_index): # refer to base in google drive\n",
        "\n",
        "    embedding_matrix = np.zeros((vocab_inp_size, embedding_dim))\n",
        "    \n",
        "    for word, i in word_to_index.items():\n",
        "      embedding_vector = word_to_vec_map.get(word)\n",
        "      if embedding_vector is not None:\n",
        "        embedding_matrix[i] = embedding_vector\n",
        "    \n",
        "    return embedding_matrix"
      ],
      "execution_count": 0,
      "outputs": []
    },
    {
      "metadata": {
        "id": "QSO2KfVXsChR",
        "colab_type": "code",
        "colab": {}
      },
      "cell_type": "code",
      "source": [
        "#@title LSTM { display-mode: \"code\" }\n",
        "def lstm(units):\n",
        "    if tf.test.is_gpu_available():\n",
        "        print('gpu avaliable')\n",
        "        #return tf.keras.layers.LSTM(units, return_sequences=True, return_state=True, recurrent_activation='sigmoid', recurrent_initializer='glorot_uniform')\n",
        "        return tf.keras.layers.CuDNNLSTM(units, return_sequences=True, return_state=True, recurrent_initializer='glorot_uniform')\n",
        "    else:\n",
        "        print('no gpu available')\n",
        "        return tf.keras.layers.LSTM(units, return_sequences=True, return_state=True, recurrent_activation='sigmoid', recurrent_initializer='glorot_uniform')"
      ],
      "execution_count": 0,
      "outputs": []
    },
    {
      "metadata": {
        "id": "iLuvT9xulb8U",
        "colab_type": "code",
        "cellView": "form",
        "colab": {}
      },
      "cell_type": "code",
      "source": [
        "#@title GRU\n",
        "def gru(units):\n",
        "    if tf.test.is_gpu_available():\n",
        "        print('gpu avaliable')\n",
        "        #return tf.keras.layers.GRU(units, return_sequences=True, return_state=True, recurrent_activation='sigmoid', recurrent_initializer='glorot_uniform')\n",
        "        return tf.keras.layers.CuDNNGRU(units, return_sequences=True, return_state=True, recurrent_initializer='glorot_uniform')\n",
        "    else:\n",
        "        print('no gpu available')\n",
        "        return tf.keras.layers.GRU(units, return_sequences=True, return_state=True, recurrent_activation='sigmoid', recurrent_initializer='glorot_uniform')"
      ],
      "execution_count": 0,
      "outputs": []
    },
    {
      "metadata": {
        "id": "7kBsmqQZsEdr",
        "colab_type": "code",
        "cellView": "form",
        "colab": {}
      },
      "cell_type": "code",
      "source": [
        "#@title Encoder\n",
        "class Encoder(tf.keras.Model):\n",
        "    def __init__(self, vocab_size, embedding_dim, enc_units, batch_sz):\n",
        "        super(Encoder, self).__init__()\n",
        "        self.batch_sz = batch_sz\n",
        "        self.enc_units = enc_units\n",
        "        if use_PWE:\n",
        "          self.embedding = tf.keras.layers.Embedding(vocab_size, \n",
        "                                                     embedding_dim, \n",
        "                                                     weights=[pretrained_embedding_matrix(em_word_to_vec_map, inp_lang.word2idx)], \n",
        "                                                     trainable=False)\n",
        "        else:\n",
        "          self.embedding = tf.keras.layers.Embedding(vocab_size, \n",
        "                                                     embedding_dim)\n",
        "        self.gru = gru(self.enc_units)\n",
        "        self.bidirectionalgru = tf.keras.layers.Bidirectional(self.gru)\n",
        "        self.lstm = lstm(self.enc_units)\n",
        "        self.bidirectionallstm = tf.keras.layers.Bidirectional(self.lstm)\n",
        "        \n",
        "    def call(self, x):  # TODO: can delete hidden? (it was initial_state)\n",
        "        x = self.embedding(x)\n",
        "        output, hf, _cf, hb, _cb = self.bidirectionallstm(x)\n",
        "        h_concat = tf.keras.layers.concatenate([hf, hb], axis=-1)  # place this in init ???\n",
        "        #print('output shape: ', output.shape)\n",
        "        #print('hf shape: ', hf.shape)\n",
        "        #print('h_concat shape: ', h_concat.shape)\n",
        "        return output, h_concat\n",
        "      \n",
        "    def initialize_hidden_state(self):\n",
        "        return tf.zeros((self.batch_sz, self.enc_units))"
      ],
      "execution_count": 0,
      "outputs": []
    },
    {
      "metadata": {
        "id": "Nw6zNP4xsG-p",
        "colab_type": "code",
        "cellView": "form",
        "colab": {}
      },
      "cell_type": "code",
      "source": [
        "#@title Decoder\n",
        "class Decoder(tf.keras.Model):\n",
        "    def __init__(self, vocab_size, embedding_dim, dec_units, batch_sz):\n",
        "        super(Decoder, self).__init__()\n",
        "        self.batch_sz = batch_sz\n",
        "        self.dec_units = dec_units\n",
        "        if use_PWE:\n",
        "          self.embedding = tf.keras.layers.Embedding(vocab_size, \n",
        "                                                     embedding_dim, \n",
        "                                                     weights=[pretrained_embedding_matrix(em_word_to_vec_map, inp_lang.word2idx)], \n",
        "                                                     trainable=False)\n",
        "        else:\n",
        "          self.embedding = tf.keras.layers.Embedding(vocab_size, \n",
        "                                                     embedding_dim)\n",
        "        self.gru = gru(self.dec_units)\n",
        "        self.lstm = lstm(self.dec_units)\n",
        "        self.fc = tf.keras.layers.Dense(vocab_size)\n",
        "        \n",
        "        # used for attention\n",
        "        self.W1 = tf.keras.layers.Dense(self.dec_units)\n",
        "        self.W2 = tf.keras.layers.Dense(self.dec_units)\n",
        "        self.V = tf.keras.layers.Dense(1)\n",
        "        \n",
        "    def call(self, x, hidden, enc_output):\n",
        "        # enc_output shape == (batch_size, max_length, hidden_size)\n",
        "        \n",
        "        # hidden shape == (batch_size, hidden size)\n",
        "        # hidden_with_time_axis shape == (batch_size, 1, hidden size)\n",
        "        # we are doing this to perform addition to calculate the score\n",
        "        hidden_with_time_axis = tf.expand_dims(hidden, 1)\n",
        "        #print('hidden shape: ', hidden.shape)                               # (64, 1024)\n",
        "        #print('hidden_with_time_axis shape: ', hidden_with_time_axis.shape) # (64, 1, 1024)\n",
        "        \n",
        "        # score shape == (batch_size, max_length, hidden_size)\n",
        "        score = tf.nn.tanh(self.W1(enc_output) + self.W2(hidden_with_time_axis)) # (64, 16, 2048), (64, 1024), (64, 2048)\n",
        "        #print('socre shape: ', score.shape)\n",
        "        # attention_weights shape == (batch_size, max_length, 1)\n",
        "        # we get 1 at the last axis because we are applying score to self.V\n",
        "        attention_weights = tf.nn.softmax(self.V(score), axis=1)\n",
        "        \n",
        "        # context_vector shape after sum == (batch_size, hidden_size)\n",
        "        context_vector = attention_weights * enc_output\n",
        "        context_vector = tf.reduce_sum(context_vector, axis=1)\n",
        "        \n",
        "        # x shape after passing through embedding == (batch_size, 1, embedding_dim)\n",
        "        x = self.embedding(x)\n",
        "        \n",
        "        # x shape after concatenation == (batch_size, 1, embedding_dim + hidden_size)\n",
        "        x = tf.concat([tf.expand_dims(context_vector, 1), x], axis=-1)\n",
        "        \n",
        "        # passing the concatenated vector to the GRU   , changed to lstm\n",
        "        output, h, _c = self.lstm(x) # \n",
        "        \n",
        "        # output shape == (batch_size * 1, hidden_size)\n",
        "        output = tf.reshape(output, (-1, output.shape[2]))\n",
        "        \n",
        "        # output shape == (batch_size * 1, vocab)\n",
        "        x = self.fc(output)\n",
        "        \n",
        "        return x, h, attention_weights\n",
        "      \n",
        "    def initialize_hidden_state(self):\n",
        "        return tf.zeros((self.batch_sz, self.dec_units))"
      ],
      "execution_count": 0,
      "outputs": []
    },
    {
      "metadata": {
        "id": "w4b3YKvCsQLZ",
        "colab_type": "code",
        "cellView": "form",
        "outputId": "57ca16fd-2bba-489a-853e-b76a3e5e459b",
        "colab": {
          "base_uri": "https://localhost:8080/",
          "height": 85
        }
      },
      "cell_type": "code",
      "source": [
        "#@title Create Enc & Dec Instance\n",
        "encoder = Encoder(vocab_inp_size, embedding_dim, enc_units, BATCH_SIZE)\n",
        "decoder = Decoder(vocab_tar_size, embedding_dim, dec_units, BATCH_SIZE)"
      ],
      "execution_count": 15,
      "outputs": [
        {
          "output_type": "stream",
          "text": [
            "gpu avaliable\n",
            "gpu avaliable\n",
            "gpu avaliable\n",
            "gpu avaliable\n"
          ],
          "name": "stdout"
        }
      ]
    },
    {
      "metadata": {
        "id": "6JPaTaMzsSj6",
        "colab_type": "code",
        "cellView": "form",
        "colab": {}
      },
      "cell_type": "code",
      "source": [
        "#@title Optimiser & Loss Function\n",
        "optimizer = tf.train.AdamOptimizer()\n",
        "\n",
        "def loss_function(real, pred):\n",
        "    mask = 1 - np.equal(real, 0) # returns 0 - True, 1 - False\n",
        "    loss_ = tf.nn.sparse_softmax_cross_entropy_with_logits(labels=real, logits=pred) * mask # if wrong pred, keep/record loss\n",
        "    return tf.reduce_mean(loss_) # get mean"
      ],
      "execution_count": 0,
      "outputs": []
    },
    {
      "metadata": {
        "id": "_UyZCGrnsUYB",
        "colab_type": "code",
        "cellView": "form",
        "colab": {}
      },
      "cell_type": "code",
      "source": [
        "#@title Checkpoint\n",
        "checkpoint_dir = '/content/gdrive/My Drive/Colab Notebooks/training_checkpoints'\n",
        "checkpoint_prefix = os.path.join(checkpoint_dir, \"ckpt\")\n",
        "checkpoint = tf.train.Checkpoint(optimizer=optimizer,\n",
        "                                 encoder=encoder,\n",
        "                                 decoder=decoder)"
      ],
      "execution_count": 0,
      "outputs": []
    },
    {
      "metadata": {
        "id": "MH8twHiXTydd",
        "colab_type": "text"
      },
      "cell_type": "markdown",
      "source": [
        "# **Post-processing**"
      ]
    },
    {
      "metadata": {
        "id": "44Vbm0w9hXoZ",
        "colab_type": "code",
        "colab": {
          "base_uri": "https://localhost:8080/",
          "height": 54
        },
        "cellView": "form",
        "outputId": "a0bb3fec-78dd-4d1c-b3b6-9e526c6646e1"
      },
      "cell_type": "code",
      "source": [
        "'''#@title\n",
        "TOTAL_EPOCHS = 10\n",
        "NEW = True\n",
        "if NEW:\n",
        "    \n",
        "  EPOCHS = TOTAL_EPOCHS\n",
        "else:\n",
        "  with open('/content/gdrive/My Drive/Colab Notebooks/restore_previous_epoch.txt', 'rb') as f:\n",
        "      for epoch in f:\n",
        "        EPOCHS = TOTAL_EPOCHS - int(epoch)\n",
        "  checkpoint.restore(tf.train.latest_checkpoint(checkpoint_dir))\n",
        "\n",
        "  print('Number of epochs left', EPOCHS)'''"
      ],
      "execution_count": 19,
      "outputs": [
        {
          "output_type": "execute_result",
          "data": {
            "text/plain": [
              "\"#@title\\nTOTAL_EPOCHS = 10\\nNEW = True\\nif NEW:\\n    \\n  EPOCHS = TOTAL_EPOCHS\\nelse:\\n  with open('/content/gdrive/My Drive/Colab Notebooks/restore_previous_epoch.txt', 'rb') as f:\\n      for epoch in f:\\n        EPOCHS = TOTAL_EPOCHS - int(epoch)\\n  checkpoint.restore(tf.train.latest_checkpoint(checkpoint_dir))\\n\\n  print('Number of epochs left', EPOCHS)\""
            ]
          },
          "metadata": {
            "tags": []
          },
          "execution_count": 19
        }
      ]
    },
    {
      "metadata": {
        "id": "ZiWJub6bsWA4",
        "colab_type": "code",
        "cellView": "code",
        "colab": {
          "base_uri": "https://localhost:8080/",
          "height": 3128
        },
        "outputId": "fc7b74d1-8668-4816-fddb-b1c83df4c353"
      },
      "cell_type": "code",
      "source": [
        "#@title Train\n",
        "EPOCHS = 10\n",
        "\n",
        "for epoch in range(EPOCHS):\n",
        "    start = time.time()\n",
        "    \n",
        "    #hidden = encoder.initialize_hidden_state()\n",
        "    total_loss = 0\n",
        "    \n",
        "    for (batch, (inp, targ)) in enumerate(dataset):\n",
        "        loss = 0\n",
        "        \n",
        "        with tf.GradientTape() as tape: # Selecting which Gradient Taping to use: https://stackoverflow.com/questions/50098971/whats-the-difference-between-gradienttape-implicit-gradients\n",
        "            enc_output, enc_hidden = encoder(inp) #, hidden\n",
        "            \n",
        "            dec_hidden = enc_hidden\n",
        "            \n",
        "            dec_input = tf.expand_dims([targ_lang.word2idx['<start>']] * BATCH_SIZE, 1)       \n",
        "            \n",
        "            # Teacher forcing - feeding the target as the next input\n",
        "            for t in range(1, targ.shape[1]):\n",
        "                # passing enc_output to the decoder\n",
        "                predictions, dec_hidden, _ = decoder(dec_input, dec_hidden, enc_output)\n",
        "                \n",
        "                loss += loss_function(targ[:, t], predictions)\n",
        "                \n",
        "                # using teacher forcing\n",
        "                dec_input = tf.expand_dims(targ[:, t], 1)\n",
        "        \n",
        "        batch_loss = (loss / int(targ.shape[1])) # average batch loss\n",
        "        \n",
        "        total_loss += batch_loss\n",
        "        \n",
        "        variables = encoder.variables + decoder.variables # get variables of each model (variables is a property of tf.keras.models.Model)\n",
        "        \n",
        "        gradients = tape.gradient(loss, variables) # computes the gradients based on the recorded 'taped' loss and variables\n",
        "        \n",
        "        optimizer.apply_gradients(zip(gradients, variables)) # Apply gradients to variables (W1, W2 ..etc).\n",
        "        \n",
        "        if batch % 100 == 0:\n",
        "            print('Epoch {} Batch {} Loss {:.4f}.'.format(epoch + 1,\n",
        "                                                         batch,\n",
        "                                                         batch_loss.numpy()), 'At:', datetime.datetime.now())\n",
        "    \n",
        "    #if (epoch + 1) % 2 == 0: # saving (checkpoint) the model every 2 epochs\n",
        "    # saving (checkpoint) the model at every epochs\n",
        "    checkpoint.save(file_prefix = checkpoint_prefix)\n",
        "    \n",
        "    print('Epoch {} Loss {:.4f}'.format(epoch + 1,\n",
        "                                        total_loss / N_BATCH))\n",
        "    print('Time taken for 1 epoch {} sec\\n'.format(time.time() - start))"
      ],
      "execution_count": 0,
      "outputs": [
        {
          "output_type": "stream",
          "text": [
            "Epoch 1 Batch 0 Loss 2.0929. At: 2018-11-06 23:02:35.193191\n",
            "Epoch 1 Batch 100 Loss 1.1430. At: 2018-11-06 23:06:36.374537\n",
            "Epoch 1 Batch 200 Loss 1.3424. At: 2018-11-06 23:10:37.849001\n",
            "Epoch 1 Batch 300 Loss 1.1362. At: 2018-11-06 23:14:38.373089\n",
            "Epoch 1 Batch 400 Loss 1.1572. At: 2018-11-06 23:18:39.159223\n",
            "Epoch 1 Batch 500 Loss 1.1101. At: 2018-11-06 23:22:39.867040\n",
            "Epoch 1 Batch 600 Loss 1.1525. At: 2018-11-06 23:26:40.542487\n",
            "Epoch 1 Batch 700 Loss 0.9959. At: 2018-11-06 23:30:41.439539\n",
            "Epoch 1 Batch 800 Loss 0.8561. At: 2018-11-06 23:34:43.508817\n",
            "Epoch 1 Batch 900 Loss 0.9175. At: 2018-11-06 23:38:45.828591\n",
            "Epoch 1 Batch 1000 Loss 0.8524. At: 2018-11-06 23:42:47.917899\n",
            "Epoch 1 Batch 1100 Loss 0.9584. At: 2018-11-06 23:46:49.879490\n",
            "Epoch 1 Batch 1200 Loss 0.9237. At: 2018-11-06 23:50:52.244127\n",
            "Epoch 1 Batch 1300 Loss 0.9921. At: 2018-11-06 23:54:54.694058\n",
            "Epoch 1 Batch 1400 Loss 0.8688. At: 2018-11-06 23:58:56.928838\n",
            "Epoch 1 Batch 1500 Loss 0.8955. At: 2018-11-07 00:02:58.758243\n",
            "Epoch 1 Batch 1600 Loss 0.8502. At: 2018-11-07 00:07:01.420493\n",
            "Epoch 1 Batch 1700 Loss 0.9708. At: 2018-11-07 00:11:03.508650\n",
            "Epoch 1 Batch 1800 Loss 0.9586. At: 2018-11-07 00:15:04.203123\n",
            "Epoch 1 Batch 1900 Loss 0.7746. At: 2018-11-07 00:19:04.775478\n",
            "Epoch 1 Batch 2000 Loss 0.7854. At: 2018-11-07 00:23:05.087894\n",
            "Epoch 1 Batch 2100 Loss 0.9679. At: 2018-11-07 00:27:05.615722\n",
            "Epoch 1 Batch 2200 Loss 0.7306. At: 2018-11-07 00:31:06.439803\n",
            "Epoch 1 Batch 2300 Loss 0.7487. At: 2018-11-07 00:35:08.643240\n",
            "Epoch 1 Batch 2400 Loss 0.7625. At: 2018-11-07 00:39:10.361343\n",
            "Epoch 1 Batch 2500 Loss 0.8472. At: 2018-11-07 00:43:12.356867\n",
            "Epoch 1 Loss 0.9768\n",
            "Time taken for 1 epoch 6236.595475196838 sec\n",
            "\n",
            "Epoch 2 Batch 0 Loss 0.8389. At: 2018-11-07 00:46:28.402193\n",
            "Epoch 2 Batch 100 Loss 0.8286. At: 2018-11-07 00:50:32.609169\n",
            "Epoch 2 Batch 200 Loss 1.0095. At: 2018-11-07 00:54:35.138349\n",
            "Epoch 2 Batch 300 Loss 0.8978. At: 2018-11-07 00:58:37.927080\n",
            "Epoch 2 Batch 400 Loss 0.9443. At: 2018-11-07 01:02:40.551535\n",
            "Epoch 2 Batch 500 Loss 0.9551. At: 2018-11-07 01:06:43.273740\n",
            "Epoch 2 Batch 600 Loss 0.9823. At: 2018-11-07 01:10:44.917976\n",
            "Epoch 2 Batch 700 Loss 0.8681. At: 2018-11-07 01:14:45.161998\n",
            "Epoch 2 Batch 800 Loss 0.7555. At: 2018-11-07 01:18:45.880586\n",
            "Epoch 2 Batch 900 Loss 0.8154. At: 2018-11-07 01:22:46.638905\n",
            "Epoch 2 Batch 1000 Loss 0.7497. At: 2018-11-07 01:26:47.179867\n",
            "Epoch 2 Batch 1100 Loss 0.8642. At: 2018-11-07 01:30:47.360050\n",
            "Epoch 2 Batch 1200 Loss 0.8286. At: 2018-11-07 01:34:49.818855\n",
            "Epoch 2 Batch 1300 Loss 0.9052. At: 2018-11-07 01:38:52.284264\n",
            "Epoch 2 Batch 1400 Loss 0.8017. At: 2018-11-07 01:42:54.838130\n",
            "Epoch 2 Batch 1500 Loss 0.8108. At: 2018-11-07 01:46:57.612782\n",
            "Epoch 2 Batch 1600 Loss 0.7802. At: 2018-11-07 01:51:00.059717\n",
            "Epoch 2 Batch 1700 Loss 0.8900. At: 2018-11-07 01:55:02.533882\n",
            "Epoch 2 Batch 1800 Loss 0.8829. At: 2018-11-07 01:59:05.049587\n",
            "Epoch 2 Batch 1900 Loss 0.7244. At: 2018-11-07 02:03:07.558621\n",
            "Epoch 2 Batch 2000 Loss 0.7218. At: 2018-11-07 02:07:09.960594\n",
            "Epoch 2 Batch 2100 Loss 0.8947. At: 2018-11-07 02:11:11.073606\n",
            "Epoch 2 Batch 2200 Loss 0.6729. At: 2018-11-07 02:15:11.663976\n",
            "Epoch 2 Batch 2300 Loss 0.6969. At: 2018-11-07 02:19:12.089615\n",
            "Epoch 2 Batch 2400 Loss 0.7152. At: 2018-11-07 02:23:15.143637\n",
            "Epoch 2 Batch 2500 Loss 0.7877. At: 2018-11-07 02:27:18.627553\n",
            "Epoch 2 Loss 0.8513\n",
            "Time taken for 1 epoch 6247.081959486008 sec\n",
            "\n",
            "Epoch 3 Batch 0 Loss 0.7810. At: 2018-11-07 02:30:35.548861\n",
            "Epoch 3 Batch 100 Loss 0.7824. At: 2018-11-07 02:34:42.364584\n",
            "Epoch 3 Batch 200 Loss 0.9538. At: 2018-11-07 02:38:47.860811\n",
            "Epoch 3 Batch 300 Loss 0.8489. At: 2018-11-07 02:42:53.405564\n",
            "Epoch 3 Batch 400 Loss 0.8851. At: 2018-11-07 02:46:59.360788\n",
            "Epoch 3 Batch 500 Loss 0.9083. At: 2018-11-07 02:51:05.530707\n",
            "Epoch 3 Batch 600 Loss 0.9296. At: 2018-11-07 02:55:11.590945\n",
            "Epoch 3 Batch 700 Loss 0.8210. At: 2018-11-07 02:59:18.216062\n",
            "Epoch 3 Batch 800 Loss 0.7194. At: 2018-11-07 03:03:24.164034\n",
            "Epoch 3 Batch 900 Loss 0.7646. At: 2018-11-07 03:07:30.489594\n",
            "Epoch 3 Batch 1000 Loss 0.7153. At: 2018-11-07 03:11:35.113170\n",
            "Epoch 3 Batch 1100 Loss 0.8224. At: 2018-11-07 03:15:39.849498\n",
            "Epoch 3 Batch 1200 Loss 0.7862. At: 2018-11-07 03:19:43.905374\n",
            "Epoch 3 Batch 1300 Loss 0.8663. At: 2018-11-07 03:23:48.478639\n",
            "Epoch 3 Batch 1400 Loss 0.7666. At: 2018-11-07 03:27:53.619644\n",
            "Epoch 3 Batch 1500 Loss 0.7741. At: 2018-11-07 03:31:59.377060\n",
            "Epoch 3 Batch 1600 Loss 0.7486. At: 2018-11-07 03:36:06.227652\n",
            "Epoch 3 Batch 1700 Loss 0.8485. At: 2018-11-07 03:40:13.013575\n",
            "Epoch 3 Batch 1800 Loss 0.8395. At: 2018-11-07 03:44:20.045575\n",
            "Epoch 3 Batch 1900 Loss 0.6943. At: 2018-11-07 03:48:26.988233\n",
            "Epoch 3 Batch 2000 Loss 0.6974. At: 2018-11-07 03:52:33.366810\n",
            "Epoch 3 Batch 2100 Loss 0.8545. At: 2018-11-07 03:56:40.347770\n",
            "Epoch 3 Batch 2200 Loss 0.6401. At: 2018-11-07 04:00:46.891117\n",
            "Epoch 3 Batch 2300 Loss 0.6662. At: 2018-11-07 04:04:53.659129\n",
            "Epoch 3 Batch 2400 Loss 0.6821. At: 2018-11-07 04:09:00.476806\n",
            "Epoch 3 Batch 2500 Loss 0.7404. At: 2018-11-07 04:13:06.224507\n",
            "Epoch 3 Loss 0.8079\n",
            "Time taken for 1 epoch 6348.9182732105255 sec\n",
            "\n",
            "Epoch 4 Batch 0 Loss 0.7425. At: 2018-11-07 04:16:24.687010\n",
            "Epoch 4 Batch 100 Loss 0.7510. At: 2018-11-07 04:20:31.590603\n",
            "Epoch 4 Batch 200 Loss 0.9130. At: 2018-11-07 04:24:37.025572\n",
            "Epoch 4 Batch 300 Loss 0.8059. At: 2018-11-07 04:28:42.712063\n",
            "Epoch 4 Batch 400 Loss 0.8442. At: 2018-11-07 04:32:49.082165\n",
            "Epoch 4 Batch 500 Loss 0.8705. At: 2018-11-07 04:36:55.944807\n",
            "Epoch 4 Batch 600 Loss 0.8864. At: 2018-11-07 04:41:03.277823\n",
            "Epoch 4 Batch 700 Loss 0.7787. At: 2018-11-07 04:45:10.423767\n",
            "Epoch 4 Batch 800 Loss 0.6907. At: 2018-11-07 04:49:15.807653\n",
            "Epoch 4 Batch 900 Loss 0.7291. At: 2018-11-07 04:53:18.491553\n",
            "Epoch 4 Batch 1000 Loss 0.6914. At: 2018-11-07 04:57:21.740613\n",
            "Epoch 4 Batch 1100 Loss 0.7895. At: 2018-11-07 05:01:26.580968\n",
            "Epoch 4 Batch 1200 Loss 0.7481. At: 2018-11-07 05:05:31.352321\n",
            "Epoch 4 Batch 1300 Loss 0.8381. At: 2018-11-07 05:09:36.242404\n",
            "Epoch 4 Batch 1400 Loss 0.7356. At: 2018-11-07 05:13:39.927363\n",
            "Epoch 4 Batch 1500 Loss 0.7372. At: 2018-11-07 05:17:43.719691\n",
            "Epoch 4 Batch 1600 Loss 0.7194. At: 2018-11-07 05:21:47.779817\n",
            "Epoch 4 Batch 1700 Loss 0.8146. At: 2018-11-07 05:25:51.852058\n",
            "Epoch 4 Batch 1800 Loss 0.8062. At: 2018-11-07 05:29:56.241025\n",
            "Epoch 4 Batch 1900 Loss 0.6649. At: 2018-11-07 05:34:01.363667\n",
            "Epoch 4 Batch 2000 Loss 0.6748. At: 2018-11-07 05:38:07.449880\n",
            "Epoch 4 Batch 2100 Loss 0.8139. At: 2018-11-07 05:42:13.506552\n",
            "Epoch 4 Batch 2200 Loss 0.6108. At: 2018-11-07 05:46:19.492043\n",
            "Epoch 4 Batch 2300 Loss 0.6430. At: 2018-11-07 05:50:25.806028\n",
            "Epoch 4 Batch 2400 Loss 0.6547. At: 2018-11-07 05:54:31.439570\n",
            "Epoch 4 Batch 2500 Loss 0.7029. At: 2018-11-07 05:58:37.266981\n",
            "Epoch 4 Loss 0.7737\n",
            "Time taken for 1 epoch 6332.11581492424 sec\n",
            "\n",
            "Epoch 5 Batch 0 Loss 0.7181. At: 2018-11-07 06:01:56.621716\n",
            "Epoch 5 Batch 100 Loss 0.7107. At: 2018-11-07 06:06:04.494307\n",
            "Epoch 5 Batch 200 Loss 0.8849. At: 2018-11-07 06:10:11.075528\n",
            "Epoch 5 Batch 300 Loss 0.7674. At: 2018-11-07 06:14:17.470682\n",
            "Epoch 5 Batch 400 Loss 0.8049. At: 2018-11-07 06:18:23.418391\n",
            "Epoch 5 Batch 500 Loss 0.8307. At: 2018-11-07 06:22:29.760312\n",
            "Epoch 5 Batch 600 Loss 0.8474. At: 2018-11-07 06:26:35.788241\n",
            "Epoch 5 Batch 700 Loss 0.7524. At: 2018-11-07 06:30:41.594547\n",
            "Epoch 5 Batch 800 Loss 0.6634. At: 2018-11-07 06:34:48.565692\n",
            "Epoch 5 Batch 900 Loss 0.6921. At: 2018-11-07 06:38:55.833118\n",
            "Epoch 5 Batch 1000 Loss 0.6733. At: 2018-11-07 06:43:03.453981\n",
            "Epoch 5 Batch 1100 Loss 0.7669. At: 2018-11-07 06:47:10.870870\n",
            "Epoch 5 Batch 1200 Loss 0.7126. At: 2018-11-07 06:51:18.295565\n",
            "Epoch 5 Batch 1300 Loss 0.8095. At: 2018-11-07 06:55:25.502659\n",
            "Epoch 5 Batch 1400 Loss 0.7078. At: 2018-11-07 06:59:32.817281\n",
            "Epoch 5 Batch 1500 Loss 0.7005. At: 2018-11-07 07:03:37.041487\n",
            "Epoch 5 Batch 1600 Loss 0.6938. At: 2018-11-07 07:07:39.785721\n",
            "Epoch 5 Batch 1700 Loss 0.7831. At: 2018-11-07 07:11:41.179990\n",
            "Epoch 5 Batch 1800 Loss 0.7745. At: 2018-11-07 07:15:41.979861\n",
            "Epoch 5 Batch 1900 Loss 0.6391. At: 2018-11-07 07:19:42.530473\n",
            "Epoch 5 Batch 2000 Loss 0.6550. At: 2018-11-07 07:23:43.379204\n",
            "Epoch 5 Batch 2100 Loss 0.7850. At: 2018-11-07 07:27:44.234842\n",
            "Epoch 5 Batch 2200 Loss 0.5858. At: 2018-11-07 07:31:46.055605\n",
            "Epoch 5 Batch 2300 Loss 0.6207. At: 2018-11-07 07:35:48.958478\n",
            "Epoch 5 Batch 2400 Loss 0.6266. At: 2018-11-07 07:39:51.806712\n",
            "Epoch 5 Batch 2500 Loss 0.6687. At: 2018-11-07 07:43:54.718405\n",
            "Epoch 5 Loss 0.7427\n",
            "Time taken for 1 epoch 6315.036625385284 sec\n",
            "\n",
            "Epoch 6 Batch 0 Loss 0.6864. At: 2018-11-07 07:47:11.630711\n",
            "Epoch 6 Batch 100 Loss 0.6811. At: 2018-11-07 07:51:16.571783\n",
            "Epoch 6 Batch 200 Loss 0.8519. At: 2018-11-07 07:55:19.760715\n",
            "Epoch 6 Batch 300 Loss 0.7353. At: 2018-11-07 07:59:23.043456\n",
            "Epoch 6 Batch 400 Loss 0.7700. At: 2018-11-07 08:03:26.255202\n",
            "Epoch 6 Batch 500 Loss 0.8036. At: 2018-11-07 08:07:29.456559\n",
            "Epoch 6 Batch 600 Loss 0.8084. At: 2018-11-07 08:11:31.706270\n",
            "Epoch 6 Batch 700 Loss 0.7178. At: 2018-11-07 08:15:33.137458\n",
            "Epoch 6 Batch 800 Loss 0.6362. At: 2018-11-07 08:19:34.095694\n",
            "Epoch 6 Batch 900 Loss 0.6651. At: 2018-11-07 08:23:35.354842\n",
            "Epoch 6 Batch 1000 Loss 0.6520. At: 2018-11-07 08:27:36.557852\n",
            "Epoch 6 Batch 1100 Loss 0.7394. At: 2018-11-07 08:31:38.152819\n",
            "Epoch 6 Batch 1200 Loss 0.6768. At: 2018-11-07 08:35:41.384068\n",
            "Epoch 6 Batch 1300 Loss 0.7807. At: 2018-11-07 08:39:44.366890\n",
            "Epoch 6 Batch 1400 Loss 0.6807. At: 2018-11-07 08:43:47.748265\n",
            "Epoch 6 Batch 1500 Loss 0.6712. At: 2018-11-07 08:47:50.851385\n",
            "Epoch 6 Batch 1600 Loss 0.6680. At: 2018-11-07 08:51:53.900208\n",
            "Epoch 6 Batch 1700 Loss 0.7515. At: 2018-11-07 08:55:56.886131\n",
            "Epoch 6 Batch 1800 Loss 0.7490. At: 2018-11-07 09:00:00.068573\n",
            "Epoch 6 Batch 1900 Loss 0.6214. At: 2018-11-07 09:04:03.303294\n",
            "Epoch 6 Batch 2000 Loss 0.6322. At: 2018-11-07 09:08:06.348355\n",
            "Epoch 6 Batch 2100 Loss 0.7613. At: 2018-11-07 09:12:08.541632\n",
            "Epoch 6 Batch 2200 Loss 0.5655. At: 2018-11-07 09:16:10.048488\n",
            "Epoch 6 Batch 2300 Loss 0.6029. At: 2018-11-07 09:20:13.100854\n",
            "Epoch 6 Batch 2400 Loss 0.6032. At: 2018-11-07 09:24:17.033695\n",
            "Epoch 6 Batch 2500 Loss 0.6445. At: 2018-11-07 09:28:21.241574\n",
            "Epoch 6 Loss 0.7143\n",
            "Time taken for 1 epoch 6268.377889633179 sec\n",
            "\n",
            "Epoch 7 Batch 0 Loss 0.6626. At: 2018-11-07 09:31:40.139584\n",
            "Epoch 7 Batch 100 Loss 0.6599. At: 2018-11-07 09:35:46.466099\n",
            "Epoch 7 Batch 200 Loss 0.8263. At: 2018-11-07 09:39:51.926494\n",
            "Epoch 7 Batch 300 Loss 0.7105. At: 2018-11-07 09:43:57.801573\n",
            "Epoch 7 Batch 400 Loss 0.7444. At: 2018-11-07 09:48:03.922219\n",
            "Epoch 7 Batch 500 Loss 0.7767. At: 2018-11-07 09:52:09.960170\n",
            "Epoch 7 Batch 600 Loss 0.7752. At: 2018-11-07 09:56:16.481501\n",
            "Epoch 7 Batch 700 Loss 0.6792. At: 2018-11-07 10:00:22.914772\n",
            "Epoch 7 Batch 800 Loss 0.6167. At: 2018-11-07 10:04:29.433546\n"
          ],
          "name": "stdout"
        }
      ]
    },
    {
      "metadata": {
        "id": "26T3TsPEsZfQ",
        "colab_type": "code",
        "cellView": "form",
        "colab": {}
      },
      "cell_type": "code",
      "source": [
        "#@title Evaluate\n",
        "def evaluate(sentence, encoder, decoder, inp_lang, targ_lang, max_length_inp, max_length_targ):\n",
        "    attention_plot = np.zeros((max_length_targ, max_length_inp))\n",
        "    \n",
        "    sentence = CornellMovieCorpusProcessor.preprocess_sentence(sentence)\n",
        "\n",
        "    inputs = [inp_lang.word2idx[i] for i in sentence.split(' ')]\n",
        "    inputs = tf.keras.preprocessing.sequence.pad_sequences([inputs], maxlen=max_length_inp, padding='post')\n",
        "    inputs = tf.convert_to_tensor(inputs)\n",
        "    \n",
        "    result = ''\n",
        "\n",
        "    #hidden = [tf.zeros((1, units))]\n",
        "    enc_out, enc_hidden = encoder(inputs) # , hidden\n",
        "\n",
        "    dec_hidden = enc_hidden\n",
        "    dec_input = tf.expand_dims([targ_lang.word2idx['<start>']], 0)\n",
        "\n",
        "    for t in range(max_length_targ):\n",
        "        predictions, dec_hidden, attention_weights = decoder(dec_input, dec_hidden, enc_out)\n",
        "        \n",
        "        # storing the attention weigths to plot later on\n",
        "        attention_weights = tf.reshape(attention_weights, (-1, ))\n",
        "        attention_plot[t] = attention_weights.numpy()\n",
        "\n",
        "        predicted_id = tf.argmax(predictions[0]).numpy()\n",
        "\n",
        "        result += targ_lang.idx2word[predicted_id] + ' '\n",
        "\n",
        "        if targ_lang.idx2word[predicted_id] == '<end>':\n",
        "            return result, sentence, attention_plot\n",
        "        \n",
        "        # the predicted ID is fed back into the model\n",
        "        dec_input = tf.expand_dims([predicted_id], 0)\n",
        "\n",
        "    return result, sentence, attention_plot"
      ],
      "execution_count": 0,
      "outputs": []
    },
    {
      "metadata": {
        "id": "waMrbuw9scow",
        "colab_type": "code",
        "cellView": "form",
        "colab": {}
      },
      "cell_type": "code",
      "source": [
        "#@title Plot Attention\n",
        "# function for plotting the attention weights\n",
        "def plot_attention(attention, sentence, predicted_sentence):\n",
        "    fig = plt.figure(figsize=(10,10))\n",
        "    ax = fig.add_subplot(1, 1, 1)\n",
        "    ax.matshow(attention, cmap='viridis')\n",
        "    \n",
        "    fontdict = {'fontsize': 14}\n",
        "    \n",
        "    ax.set_xticklabels([''] + sentence, fontdict=fontdict, rotation=90)\n",
        "    ax.set_yticklabels([''] + predicted_sentence, fontdict=fontdict)\n",
        "\n",
        "    plt.show()"
      ],
      "execution_count": 0,
      "outputs": []
    },
    {
      "metadata": {
        "id": "gfgq4bB3slXP",
        "colab_type": "code",
        "cellView": "form",
        "colab": {}
      },
      "cell_type": "code",
      "source": [
        "#@title Translate\n",
        "def translate(sentence, encoder, decoder, inp_lang, targ_lang, max_length_inp, max_length_targ):\n",
        "    result, sentence, attention_plot = evaluate(sentence, encoder, decoder, inp_lang, targ_lang, max_length_inp, max_length_targ)\n",
        "        \n",
        "    print('Input: {}'.format(sentence))\n",
        "    print('Predicted translation: {}'.format(result))\n",
        "    \n",
        "    attention_plot = attention_plot[:len(result.split(' ')), :len(sentence.split(' '))]\n",
        "    plot_attention(attention_plot, sentence.split(' '), result.split(' '))"
      ],
      "execution_count": 0,
      "outputs": []
    },
    {
      "metadata": {
        "id": "hICUxAWKYUno",
        "colab_type": "text"
      },
      "cell_type": "markdown",
      "source": [
        "***Try Sample Sentences***"
      ]
    },
    {
      "metadata": {
        "id": "dAZmbi_dsn1E",
        "colab_type": "code",
        "cellView": "form",
        "outputId": "9cf120fc-725e-48c6-fb7a-0dc513e8eefb",
        "colab": {
          "base_uri": "https://localhost:8080/",
          "height": 54
        }
      },
      "cell_type": "code",
      "source": [
        "#@title Restore Latest Checkpoint\n",
        "# restoring the latest checkpoint in checkpoint_dir\n",
        "checkpoint.restore(tf.train.latest_checkpoint(checkpoint_dir))"
      ],
      "execution_count": 21,
      "outputs": [
        {
          "output_type": "execute_result",
          "data": {
            "text/plain": [
              "<tensorflow.python.training.checkpointable.util.CheckpointLoadStatus at 0x7f55b654d898>"
            ]
          },
          "metadata": {
            "tags": []
          },
          "execution_count": 21
        }
      ]
    },
    {
      "metadata": {
        "id": "AHHh9izassTY",
        "colab_type": "code",
        "outputId": "11f05e5e-6ca0-4f27-bf54-66d158d279fa",
        "colab": {
          "base_uri": "https://localhost:8080/",
          "height": 649
        }
      },
      "cell_type": "code",
      "source": [
        "print(datetime.datetime.now())\n",
        "translate('you can go first , bob .', encoder, decoder, inp_lang, targ_lang, max_length_inp, max_length_targ)"
      ],
      "execution_count": 22,
      "outputs": [
        {
          "output_type": "stream",
          "text": [
            "2018-11-07 10:09:51.668585\n",
            "Input: <start> you can go first , bob . <end>\n",
            "Predicted translation: i ' m not sure . <end> \n"
          ],
          "name": "stdout"
        },
        {
          "output_type": "display_data",
          "data": {
            "image/png": "[encoded data removed]",
            "text/plain": [
              "<matplotlib.figure.Figure at 0x7f55b64a0ef0>"
            ]
          },
          "metadata": {
            "tags": []
          }
        }
      ]
    },
    {
      "metadata": {
        "id": "-YjPl1Ype1Kt",
        "colab_type": "code",
        "colab": {
          "base_uri": "https://localhost:8080/",
          "height": 677
        },
        "outputId": "1e176dbc-d354-4a2c-e389-aa31a3004c11"
      },
      "cell_type": "code",
      "source": [
        "print(datetime.datetime.now())\n",
        "translate('how are you Dave?', encoder, decoder, inp_lang, targ_lang, max_length_inp, max_length_targ)"
      ],
      "execution_count": 23,
      "outputs": [
        {
          "output_type": "stream",
          "text": [
            "2018-11-07 10:10:11.224731\n",
            "Input: <start> how are you dave ? <end>\n",
            "Predicted translation: i ' m not a good tittie . <end> \n"
          ],
          "name": "stdout"
        },
        {
          "output_type": "display_data",
          "data": {
            "image/png": "[encoded data removed]",
            "text/plain": [
              "<matplotlib.figure.Figure at 0x7f55b546be48>"
            ]
          },
          "metadata": {
            "tags": []
          }
        }
      ]
    },
    {
      "metadata": {
        "id": "CIetMPqxKU9q",
        "colab_type": "code",
        "colab": {
          "base_uri": "https://localhost:8080/",
          "height": 697
        },
        "outputId": "66d031f1-6f51-4420-ea7f-4c66383e86cd"
      },
      "cell_type": "code",
      "source": [
        "print(datetime.datetime.now())\n",
        "translate('Some times people say mean things.', encoder, decoder, inp_lang, targ_lang, max_length_inp, max_length_targ)"
      ],
      "execution_count": 24,
      "outputs": [
        {
          "output_type": "stream",
          "text": [
            "2018-11-07 10:10:12.696649\n",
            "Input: <start> some times people say mean things . <end>\n",
            "Predicted translation: i ' m not a good housekeeping and the landlady and i ' m not going to be a good housekeeping and the landlady and i ' m not going to be a good housekeeping and the landlady and i ' m not going to be a good housekeeping and the landlady and i ' m not going to \n"
          ],
          "name": "stdout"
        },
        {
          "output_type": "display_data",
          "data": {
            "image/png": "[encoded data removed]",
            "text/plain": [
              "<matplotlib.figure.Figure at 0x7f55b53c0fd0>"
            ]
          },
          "metadata": {
            "tags": []
          }
        }
      ]
    },
    {
      "metadata": {
        "id": "TopqM8kZKaY0",
        "colab_type": "code",
        "colab": {
          "base_uri": "https://localhost:8080/",
          "height": 481
        },
        "outputId": "ada94f86-8b42-49f5-da37-6fbf1ff8b533"
      },
      "cell_type": "code",
      "source": [
        "print(datetime.datetime.now())\n",
        "translate('the pilot says it is does not have the markings of a commercial jet .', encoder, decoder, inp_lang, targ_lang, max_length_inp, max_length_targ)"
      ],
      "execution_count": 25,
      "outputs": [
        {
          "output_type": "stream",
          "text": [
            "2018-11-07 10:10:15.211729\n",
            "Input: <start> the pilot says it is does not have the markings of a commercial jet . <end>\n",
            "Predicted translation: he ' s a good housekeeping seal . <end> \n"
          ],
          "name": "stdout"
        },
        {
          "output_type": "display_data",
          "data": {
            "image/png": "[encoded data removed]",
            "text/plain": [
              "<matplotlib.figure.Figure at 0x7f55b5372358>"
            ]
          },
          "metadata": {
            "tags": []
          }
        }
      ]
    },
    {
      "metadata": {
        "id": "To_vzvr5Kabv",
        "colab_type": "code",
        "colab": {}
      },
      "cell_type": "code",
      "source": [
        " "
      ],
      "execution_count": 0,
      "outputs": []
    },
    {
      "metadata": {
        "id": "aTGQLw74Kae4",
        "colab_type": "code",
        "colab": {}
      },
      "cell_type": "code",
      "source": [
        ""
      ],
      "execution_count": 0,
      "outputs": []
    },
    {
      "metadata": {
        "id": "E9B6IujzKah0",
        "colab_type": "code",
        "colab": {}
      },
      "cell_type": "code",
      "source": [
        ""
      ],
      "execution_count": 0,
      "outputs": []
    }
  ]
}